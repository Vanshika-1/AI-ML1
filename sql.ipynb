{
 "cells": [
  {
   "cell_type": "markdown",
   "id": "5e6f6b17",
   "metadata": {},
   "source": [
    "# DISPLAY TOP 5 ROWS OF THE DATASET"
   ]
  },
  {
   "cell_type": "code",
   "execution_count": null,
   "id": "8c5ecde1",
   "metadata": {},
   "outputs": [],
   "source": []
  },
  {
   "cell_type": "markdown",
   "id": "5b4238a9",
   "metadata": {},
   "source": [
    "# CHECK LAST 3 ROWS OF THE DATASET"
   ]
  },
  {
   "cell_type": "code",
   "execution_count": null,
   "id": "6b308189",
   "metadata": {},
   "outputs": [],
   "source": []
  },
  {
   "cell_type": "markdown",
   "id": "f23a634c",
   "metadata": {},
   "source": [
    "# FIND SHAPE OF OUR DATASET(NUMBER OF ROWS & NUMBER OF COLUMNS)"
   ]
  },
  {
   "cell_type": "code",
   "execution_count": null,
   "id": "dca21895",
   "metadata": {},
   "outputs": [],
   "source": []
  },
  {
   "cell_type": "markdown",
   "id": "02bda623",
   "metadata": {},
   "source": [
    "# GET INFORMATION ABOUT OUR DATASET LIKE TOTAL NUMBER ROWS,TOTAL NUMBER OF COLUMNS,DATATYPE OF EACH COLUMN AND MEMORY REQUIREDMENT"
   ]
  },
  {
   "cell_type": "code",
   "execution_count": null,
   "id": "3cf0294b",
   "metadata": {},
   "outputs": [],
   "source": []
  },
  {
   "cell_type": "markdown",
   "id": "144e4679",
   "metadata": {},
   "source": [
    "# GET OVERALL STATISTICS ABOUT THE DATAFRAME"
   ]
  },
  {
   "cell_type": "code",
   "execution_count": null,
   "id": "06bf0937",
   "metadata": {},
   "outputs": [],
   "source": []
  },
  {
   "cell_type": "markdown",
   "id": "f63f4a26",
   "metadata": {},
   "source": [
    "# DATA FILTERING"
   ]
  },
  {
   "cell_type": "code",
   "execution_count": null,
   "id": "bf8de21b",
   "metadata": {},
   "outputs": [],
   "source": []
  },
  {
   "cell_type": "markdown",
   "id": "029752a3",
   "metadata": {},
   "source": [
    "# CHECK NULL VALUES IN THE DATASET"
   ]
  },
  {
   "cell_type": "code",
   "execution_count": null,
   "id": "c48da6d3",
   "metadata": {},
   "outputs": [],
   "source": []
  },
  {
   "cell_type": "markdown",
   "id": "c54a6f7c",
   "metadata": {},
   "source": [
    "# DROP THE COLUMN"
   ]
  },
  {
   "cell_type": "code",
   "execution_count": null,
   "id": "56ec38c5",
   "metadata": {},
   "outputs": [],
   "source": []
  },
  {
   "cell_type": "markdown",
   "id": "9e1f7777",
   "metadata": {},
   "source": [
    "# HANDLE MISSING VALUES"
   ]
  },
  {
   "cell_type": "code",
   "execution_count": null,
   "id": "922475c4",
   "metadata": {},
   "outputs": [],
   "source": []
  },
  {
   "cell_type": "markdown",
   "id": "900a98b2",
   "metadata": {},
   "source": [
    "# CATEGORICAL DATA ENCODING"
   ]
  },
  {
   "cell_type": "code",
   "execution_count": null,
   "id": "9a988e5d",
   "metadata": {},
   "outputs": [],
   "source": []
  },
  {
   "cell_type": "markdown",
   "id": "c6321275",
   "metadata": {},
   "source": [
    "# WHAT IS UNIVARIATE ANALYSIS"
   ]
  },
  {
   "cell_type": "code",
   "execution_count": null,
   "id": "8a0a8760",
   "metadata": {},
   "outputs": [],
   "source": []
  },
  {
   "cell_type": "markdown",
   "id": "ef1eb764",
   "metadata": {},
   "source": [
    "# HOW MANY PEOPLE SURVIVED AND HOW MANY DIED PLOT ON GRAPH"
   ]
  },
  {
   "cell_type": "code",
   "execution_count": null,
   "id": "dd5a3c1c",
   "metadata": {},
   "outputs": [],
   "source": []
  },
  {
   "cell_type": "markdown",
   "id": "21b502ea",
   "metadata": {},
   "source": [
    "# HOW MANY PASSENGERS WERE IN FIRST CLASS,SECOND CLASS AND THIRD CLASS PLOT THOSE FIGURES ON GRAPH"
   ]
  },
  {
   "cell_type": "code",
   "execution_count": null,
   "id": "9bedee40",
   "metadata": {},
   "outputs": [],
   "source": []
  },
  {
   "cell_type": "markdown",
   "id": "d80bb1eb",
   "metadata": {},
   "source": [
    "# NUMBER  OF MALE AND FEMALE PASSANGERS"
   ]
  },
  {
   "cell_type": "code",
   "execution_count": null,
   "id": "e402f086",
   "metadata": {},
   "outputs": [],
   "source": []
  },
  {
   "cell_type": "markdown",
   "id": "ae992038",
   "metadata": {},
   "source": [
    "# BIVARIANT ANALSIS"
   ]
  },
  {
   "cell_type": "code",
   "execution_count": null,
   "id": "fe754285",
   "metadata": {},
   "outputs": [],
   "source": []
  },
  {
   "cell_type": "markdown",
   "id": "88abd73b",
   "metadata": {},
   "source": [
    "# HOW HAS BETTER CANCE OF SURVIVAL MALE OR FEMALE"
   ]
  },
  {
   "cell_type": "code",
   "execution_count": null,
   "id": "43ee171f",
   "metadata": {},
   "outputs": [],
   "source": []
  },
  {
   "cell_type": "markdown",
   "id": "4aa71181",
   "metadata": {},
   "source": [
    "# WHICH PASSENGER CLASS HAS BETTER CHANCE OF SURVIVAL(FIRST,SECOND,OR THIRD CLASS)?"
   ]
  },
  {
   "cell_type": "code",
   "execution_count": null,
   "id": "2ba81e0b",
   "metadata": {},
   "outputs": [],
   "source": []
  },
  {
   "cell_type": "markdown",
   "id": "6aa2b413",
   "metadata": {},
   "source": [
    "# FEATURE ENGINEERING"
   ]
  },
  {
   "cell_type": "code",
   "execution_count": null,
   "id": "b7e903ce",
   "metadata": {},
   "outputs": [],
   "source": []
  },
  {
   "cell_type": "code",
   "execution_count": null,
   "id": "70939ff0",
   "metadata": {},
   "outputs": [],
   "source": []
  }
 ],
 "metadata": {
  "kernelspec": {
   "display_name": "Python 3 (ipykernel)",
   "language": "python",
   "name": "python3"
  },
  "language_info": {
   "codemirror_mode": {
    "name": "ipython",
    "version": 3
   },
   "file_extension": ".py",
   "mimetype": "text/x-python",
   "name": "python",
   "nbconvert_exporter": "python",
   "pygments_lexer": "ipython3",
   "version": "3.12.1"
  },
  "varInspector": {
   "cols": {
    "lenName": 16,
    "lenType": 16,
    "lenVar": 40
   },
   "kernels_config": {
    "python": {
     "delete_cmd_postfix": "",
     "delete_cmd_prefix": "del ",
     "library": "var_list.py",
     "varRefreshCmd": "print(var_dic_list())"
    },
    "r": {
     "delete_cmd_postfix": ") ",
     "delete_cmd_prefix": "rm(",
     "library": "var_list.r",
     "varRefreshCmd": "cat(var_dic_list()) "
    }
   },
   "types_to_exclude": [
    "module",
    "function",
    "builtin_function_or_method",
    "instance",
    "_Feature"
   ],
   "window_display": false
  }
 },
 "nbformat": 4,
 "nbformat_minor": 5
}
